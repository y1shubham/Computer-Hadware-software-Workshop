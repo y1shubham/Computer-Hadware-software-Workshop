{
  "nbformat": 4,
  "nbformat_minor": 0,
  "metadata": {
    "colab": {
      "provenance": [],
      "include_colab_link": true
    },
    "kernelspec": {
      "name": "python3",
      "display_name": "Python 3"
    },
    "language_info": {
      "name": "python"
    }
  },
  "cells": [
    {
      "cell_type": "markdown",
      "metadata": {
        "id": "view-in-github",
        "colab_type": "text"
      },
      "source": [
        "<a href=\"https://colab.research.google.com/github/y1shubham/Computer-Hadware-software-Workshop/blob/main/MINOR4_FINAL.ipynb\" target=\"_parent\"><img src=\"https://colab.research.google.com/assets/colab-badge.svg\" alt=\"Open In Colab\"/></a>"
      ]
    },
    {
      "cell_type": "code",
      "source": [
        "\n",
        "!pip install pyspark"
      ],
      "metadata": {
        "colab": {
          "base_uri": "https://localhost:8080/"
        },
        "id": "CuduhQjStZ2k",
        "outputId": "7239441a-5768-434b-9c08-375b1709ade1"
      },
      "execution_count": null,
      "outputs": [
        {
          "output_type": "stream",
          "name": "stdout",
          "text": [
            "Requirement already satisfied: pyspark in /usr/local/lib/python3.10/dist-packages (3.5.1)\n",
            "Requirement already satisfied: py4j==0.10.9.7 in /usr/local/lib/python3.10/dist-packages (from pyspark) (0.10.9.7)\n"
          ]
        }
      ]
    },
    {
      "cell_type": "code",
      "source": [
        "# from google.colab import drive\n",
        "# drive.mount('/content/drive')\n",
        "\n",
        "# from pyspark.sql import SparkSession\n",
        "# from pyspark.sql.functions import col, sum\n",
        "# import pandas as pd\n",
        "# import os\n",
        "\n",
        "# spark = SparkSession.builder \\\n",
        "#     .appName(\"SalesDataAnalysis\") \\\n",
        "#     .getOrCreate()\n",
        "\n",
        "# sales_data = spark.read.csv(\"Sales_data.csv\", header=True, inferSchema=True)\n",
        "# sales_data.show()\n",
        "# sales_data = sales_data.dropDuplicates()\n",
        "# sales_data = sales_data.na.drop()\n",
        "# sales_data.show()\n",
        "# sales_data = sales_data.groupBy(\"Product\").agg(sum(\"Amount\").alias(\"TotalSales\"))\n",
        "# sales_data.write.csv(\"result.csv\", header=True)\n",
        "# csv_files = [file for file in os.listdir(\"result.csv\") if file.endswith('.csv')]\n",
        "# result_df = pd.concat([pd.read_csv(os.path.join(\"result.csv\", file)) for file in csv_files])\n",
        "# print(result_df)\n",
        "# spark.stop()"
      ],
      "metadata": {
        "colab": {
          "base_uri": "https://localhost:8080/"
        },
        "id": "izNF0fbmqmMK",
        "outputId": "ac2a5b52-9775-4ab9-ecf2-7e146fc05006"
      },
      "execution_count": null,
      "outputs": [
        {
          "output_type": "stream",
          "name": "stdout",
          "text": [
            "Drive already mounted at /content/drive; to attempt to forcibly remount, call drive.mount(\"/content/drive\", force_remount=True).\n",
            "+-------+-------+------+\n",
            "|OrderID|Product|Amount|\n",
            "+-------+-------+------+\n",
            "|      1|  Apple|  20.5|\n",
            "|      2| Banana| 15.75|\n",
            "|      3| Orange|  12.0|\n",
            "|      4|  Apple|  18.0|\n",
            "|      5| Grapes|  24.5|\n",
            "|      6| Banana|  NULL|\n",
            "|      7| Orange| 10.25|\n",
            "|      8|   NULL|  22.0|\n",
            "|      9|  Apple| 16.75|\n",
            "|     10| Grapes|  20.0|\n",
            "|     11|  Apple|  NULL|\n",
            "|     12| Orange|  15.0|\n",
            "|     13| Banana| 19.25|\n",
            "|     14| Orange|  14.5|\n",
            "|     15|  Apple|  21.0|\n",
            "|     16| Grapes| 23.75|\n",
            "|     17| Banana|  17.5|\n",
            "|     18| Banana|  16.0|\n",
            "|     19| Orange|  NULL|\n",
            "|     20|  Apple|  19.5|\n",
            "+-------+-------+------+\n",
            "only showing top 20 rows\n",
            "\n"
          ]
        }
      ]
    },
    {
      "cell_type": "code",
      "source": [],
      "metadata": {
        "id": "44Fnk11KtZPW"
      },
      "execution_count": null,
      "outputs": []
    },
    {
      "cell_type": "code",
      "source": [
        "sales_data = sales_data.dropDuplicates()"
      ],
      "metadata": {
        "id": "0qjrGoRZqqlS"
      },
      "execution_count": null,
      "outputs": []
    },
    {
      "cell_type": "code",
      "source": [
        "sales_data = sales_data.na.drop()"
      ],
      "metadata": {
        "id": "q0zGRGoWqswB"
      },
      "execution_count": null,
      "outputs": []
    },
    {
      "cell_type": "code",
      "source": [],
      "metadata": {
        "id": "tWb0TaQaqvBs"
      },
      "execution_count": null,
      "outputs": []
    },
    {
      "cell_type": "code",
      "source": [
        "sales_data = sales_data.na.drop()"
      ],
      "metadata": {
        "id": "_a1PeGXiqx8o"
      },
      "execution_count": null,
      "outputs": []
    },
    {
      "cell_type": "code",
      "source": [
        "sales_data = sales_data.dropDuplicates()"
      ],
      "metadata": {
        "id": "vtYh1bmyq1kU"
      },
      "execution_count": null,
      "outputs": []
    },
    {
      "cell_type": "code",
      "source": [
        "sales_data.show()"
      ],
      "metadata": {
        "colab": {
          "base_uri": "https://localhost:8080/"
        },
        "id": "wCxkOqRXq5Ak",
        "outputId": "450465e5-5a40-42e3-deba-e07f04bdf0d2"
      },
      "execution_count": null,
      "outputs": [
        {
          "output_type": "stream",
          "name": "stdout",
          "text": [
            "+-------+-------+------+\n",
            "|OrderID|Product|Amount|\n",
            "+-------+-------+------+\n",
            "|      4|  Apple|  18.0|\n",
            "|      9|  Apple| 16.75|\n",
            "|     27| Banana|  17.0|\n",
            "|      5| Grapes|  24.5|\n",
            "|     24| Banana|  21.5|\n",
            "|      7| Orange| 10.25|\n",
            "|     10| Grapes|  20.0|\n",
            "|     13| Banana| 19.25|\n",
            "|     30| Orange|  12.5|\n",
            "|      1|  Apple|  20.5|\n",
            "|     17| Banana|  17.5|\n",
            "|     12| Orange|  15.0|\n",
            "|     29| Grapes| 21.75|\n",
            "|     26| Orange| 13.25|\n",
            "|     28|  Apple| 20.75|\n",
            "|     21| Grapes| 22.25|\n",
            "|     20|  Apple|  19.5|\n",
            "|     23|  Apple| 14.25|\n",
            "|     14| Orange|  14.5|\n",
            "|     15|  Apple|  21.0|\n",
            "+-------+-------+------+\n",
            "only showing top 20 rows\n",
            "\n"
          ]
        }
      ]
    },
    {
      "cell_type": "code",
      "source": [
        "sales_data = sales_data.groupBy(\"Product\").agg(sum(\"Amount\").alias(\"TotalSales\"))"
      ],
      "metadata": {
        "id": "cIuxMYqbq7F8"
      },
      "execution_count": null,
      "outputs": []
    },
    {
      "cell_type": "code",
      "source": [
        "sales_data.write.csv(\"result.csv\", header=True)"
      ],
      "metadata": {
        "id": "swul6CH3q-lK"
      },
      "execution_count": null,
      "outputs": []
    },
    {
      "cell_type": "code",
      "source": [
        "csv_files = [file for file in os.listdir(\"result.csv\") if file.endswith('.csv')]\n",
        "result_df = pd.concat([pd.read_csv(os.path.join(\"result.csv\", file)) for file in csv_files])\n",
        "print(result_df)"
      ],
      "metadata": {
        "id": "qOGOuv8YrEQd",
        "colab": {
          "base_uri": "https://localhost:8080/"
        },
        "outputId": "397bb592-63de-4f78-de66-8733b2295c4f"
      },
      "execution_count": null,
      "outputs": [
        {
          "output_type": "stream",
          "name": "stdout",
          "text": [
            "  Product  TotalSales\n",
            "0  Orange       77.50\n",
            "1  Banana      107.00\n",
            "2  Grapes      137.25\n",
            "3   Apple      130.75\n"
          ]
        }
      ]
    },
    {
      "cell_type": "code",
      "source": [
        "spark.stop()"
      ],
      "metadata": {
        "id": "oLHYHlg8rGtL"
      },
      "execution_count": null,
      "outputs": []
    }
  ]
}